{
  "nbformat": 4,
  "nbformat_minor": 0,
  "metadata": {
    "colab": {
      "name": "AgeGuesser_train.ipynb",
      "provenance": [],
      "collapsed_sections": [],
      "machine_shape": "hm"
    },
    "kernelspec": {
      "name": "python3",
      "display_name": "Python 3"
    },
    "language_info": {
      "name": "python"
    },
    "accelerator": "GPU"
  },
  "cells": [
    {
      "cell_type": "markdown",
      "metadata": {
        "id": "x5pZi2A-SAW1"
      },
      "source": [
        "# One dataset"
      ]
    },
    {
      "cell_type": "code",
      "metadata": {
        "colab": {
          "base_uri": "https://localhost:8080/"
        },
        "id": "uTFWOr7B4sg_",
        "outputId": "f72952ef-56e4-4196-ba2d-b9f7000fbd27"
      },
      "source": [
        "!nvidia-smi"
      ],
      "execution_count": null,
      "outputs": [
        {
          "output_type": "stream",
          "name": "stdout",
          "text": [
            "Thu Oct 14 10:30:39 2021       \n",
            "+-----------------------------------------------------------------------------+\n",
            "| NVIDIA-SMI 470.74       Driver Version: 460.32.03    CUDA Version: 11.2     |\n",
            "|-------------------------------+----------------------+----------------------+\n",
            "| GPU  Name        Persistence-M| Bus-Id        Disp.A | Volatile Uncorr. ECC |\n",
            "| Fan  Temp  Perf  Pwr:Usage/Cap|         Memory-Usage | GPU-Util  Compute M. |\n",
            "|                               |                      |               MIG M. |\n",
            "|===============================+======================+======================|\n",
            "|   0  Tesla P100-PCIE...  Off  | 00000000:00:04.0 Off |                    0 |\n",
            "| N/A   35C    P0    27W / 250W |      0MiB / 16280MiB |      0%      Default |\n",
            "|                               |                      |                  N/A |\n",
            "+-------------------------------+----------------------+----------------------+\n",
            "                                                                               \n",
            "+-----------------------------------------------------------------------------+\n",
            "| Processes:                                                                  |\n",
            "|  GPU   GI   CI        PID   Type   Process name                  GPU Memory |\n",
            "|        ID   ID                                                   Usage      |\n",
            "|=============================================================================|\n",
            "|  No running processes found                                                 |\n",
            "+-----------------------------------------------------------------------------+\n"
          ]
        }
      ]
    },
    {
      "cell_type": "code",
      "metadata": {
        "id": "4YU_MZyjSAW2"
      },
      "source": [
        "import numpy as np\n",
        "import tensorflow as tf\n",
        "import matplotlib.pyplot as plt\n",
        "\n",
        "import cv2\n",
        "import pickle as pkl\n",
        "import os\n",
        "import glob\n"
      ],
      "execution_count": null,
      "outputs": []
    },
    {
      "cell_type": "code",
      "metadata": {
        "id": "k6itM8DYXD-U"
      },
      "source": [
        "!pip install mlflow\n",
        "!databricks configure --host https://community.cloud.databricks.com/"
      ],
      "execution_count": null,
      "outputs": []
    },
    {
      "cell_type": "code",
      "metadata": {
        "id": "4L7EJ8kPcjzN"
      },
      "source": [
        "!databricks configure --host https://community.cloud.databricks.com/"
      ],
      "execution_count": null,
      "outputs": []
    },
    {
      "cell_type": "code",
      "metadata": {
        "id": "TEsYNqO_XFOT"
      },
      "source": [
        "import mlflow\n",
        "mlflow.set_tracking_uri(\"databricks\")\n",
        "mlflow.set_experiment(\"/Users/mauroscianca98@gmail.com/TestSE\")"
      ],
      "execution_count": null,
      "outputs": []
    },
    {
      "cell_type": "code",
      "metadata": {
        "colab": {
          "base_uri": "https://localhost:8080/"
        },
        "id": "Wb7v9EAcSAW2",
        "outputId": "5a72be62-27e4-4627-b18d-00c9fdcc1c7c"
      },
      "source": [
        "from google.colab import drive\n",
        "drive.mount('/content/drive')"
      ],
      "execution_count": null,
      "outputs": [
        {
          "output_type": "stream",
          "name": "stdout",
          "text": [
            "Mounted at /content/drive\n"
          ]
        }
      ]
    },
    {
      "cell_type": "code",
      "metadata": {
        "id": "P0qab5mPSAW4"
      },
      "source": [
        "!nvidia-smi"
      ],
      "execution_count": null,
      "outputs": []
    },
    {
      "cell_type": "code",
      "metadata": {
        "id": "TdWPqMNSSAW4"
      },
      "source": [
        "imdb_utk = \"dataset_all_clean_3\""
      ],
      "execution_count": null,
      "outputs": []
    },
    {
      "cell_type": "code",
      "metadata": {
        "id": "j5uA6QeuSAW4"
      },
      "source": [
        "!unzip \"/content/drive/MyDrive/AI Playground/cv_age_estimation/dataset/{imdb_utk}.zip\" -d \"{imdb_utk}\""
      ],
      "execution_count": null,
      "outputs": []
    },
    {
      "cell_type": "code",
      "metadata": {
        "id": "Sf3OeyAQSAW6"
      },
      "source": [
        "import glob\n",
        "train_imgs_1 = glob.glob(\"%s/train_aug/*/*.jpg\" % imdb_utk)\n",
        "test_imgs_1 = glob.glob(\"%s/test/*/*.jpg\" % imdb_utk)\n",
        "valid_imgs_1 = glob.glob(\"%s/validation/*/*.jpg\" % imdb_utk)\n",
        "\n",
        "len_train_1 = len(train_imgs_1)\n",
        "len_test_1 = len(test_imgs_1)\n",
        "len_valid_1 = len(valid_imgs_1)\n",
        "\n",
        "print(len_train_1)\n",
        "print(len_test_1)\n",
        "print(len_valid_1)"
      ],
      "execution_count": null,
      "outputs": []
    },
    {
      "cell_type": "code",
      "metadata": {
        "id": "Wp0xUpA-SAW6"
      },
      "source": [
        "#images_path = \"/content/drive/MyDrive/AI Playground/cv_age_estimation/dataset/finetuning/images/\"\n",
        "train_path_1 = \"%s/train_aug/\" % imdb_utk\n",
        "test_path_1 = \"%s/test/\" % imdb_utk\n",
        "valid_path_1 = \"%s/validation/\" % imdb_utk\n",
        "\n",
        "img_height = 224 #@param {type:'integer'}\n",
        "img_width = 224 #@param {type:'integer'}\n",
        "batch_size = 128 #@param {type:'integer'}"
      ],
      "execution_count": null,
      "outputs": []
    },
    {
      "cell_type": "markdown",
      "metadata": {
        "id": "3nKbPbStB8mV"
      },
      "source": [
        "## Setup dataset"
      ]
    },
    {
      "cell_type": "code",
      "metadata": {
        "id": "NSDDRvBiSAW6"
      },
      "source": [
        "\n",
        "train_list_ds_1 = tf.data.Dataset.list_files(train_path_1 + \"*/*.jpg\", shuffle=True)\n",
        "test_list_ds_1 = tf.data.Dataset.list_files(test_path_1 + \"*/*.jpg\", shuffle=True)\n",
        "valid_list_ds_1 = tf.data.Dataset.list_files(valid_path_1 + \"*/*.jpg\", shuffle=True)\n",
        "\n",
        "train_ds = train_list_ds_1.shuffle(len_train_1)\n",
        "test_ds = test_list_ds_1.shuffle(len_test_1)\n",
        "valid_ds = valid_list_ds_1.shuffle(len_valid_1)\n"
      ],
      "execution_count": null,
      "outputs": []
    },
    {
      "cell_type": "code",
      "metadata": {
        "id": "jx0pkDWKSAW6"
      },
      "source": [
        "AUTOTUNE = tf.data.AUTOTUNE\n",
        "\n",
        "def get_label(file_path):\n",
        "  # convert the path to a list of path components\n",
        "  parts = tf.strings.split(file_path, os.path.sep)\n",
        "  \n",
        "  #age = int(tf.strings.split(parts[-1], \"_\")[0])\n",
        "  age = int(parts[-2])\n",
        "\n",
        "  #tf.print(parts)\n",
        "  # Integer encode the label\n",
        "  return age\n",
        "\n",
        "def decode_img(img):\n",
        "  # convert the compressed string to a 3D uint8 tensor\n",
        "  img = tf.image.decode_jpeg(img, channels=3)\n",
        "  # resize the image to the desired size\n",
        "  return tf.image.resize(img, [img_height, img_width])\n",
        "\n",
        "def process_path(file_path):\n",
        "  label = get_label(file_path)\n",
        "  # load the raw data from the file as a string\n",
        "  img = tf.io.read_file(file_path)\n",
        "  img = decode_img(img) \n",
        "  return img, label\n",
        "\n",
        "\n",
        "def configure_for_performance(ds):\n",
        "  #ds = ds.cache()\n",
        "  ds = ds.shuffle(buffer_size=1000)\n",
        "  ds = ds.batch(batch_size)\n",
        "  ds = ds.prefetch(buffer_size=AUTOTUNE)\n",
        "  return ds"
      ],
      "execution_count": null,
      "outputs": []
    },
    {
      "cell_type": "code",
      "metadata": {
        "id": "xz1FOCFMSAW7"
      },
      "source": [
        "train_ds = train_ds.map(process_path, num_parallel_calls=AUTOTUNE)\n",
        "test_ds = test_ds.map(process_path, num_parallel_calls=AUTOTUNE)\n",
        "valid_ds = valid_ds.map(process_path, num_parallel_calls=AUTOTUNE)"
      ],
      "execution_count": null,
      "outputs": []
    },
    {
      "cell_type": "code",
      "metadata": {
        "id": "e-ESuRWlSAW7"
      },
      "source": [
        "train_ds = configure_for_performance(train_ds)\n",
        "test_ds = configure_for_performance(test_ds)\n",
        "valid_ds = configure_for_performance(valid_ds)"
      ],
      "execution_count": null,
      "outputs": []
    },
    {
      "cell_type": "markdown",
      "metadata": {
        "id": "v8I2woukCCNk"
      },
      "source": [
        "## Preview some data"
      ]
    },
    {
      "cell_type": "code",
      "metadata": {
        "id": "UXfCdHC5SAW7"
      },
      "source": [
        "import matplotlib.pyplot as plt\n",
        "image_batch, label_batch = next(iter(train_ds))\n",
        "\n",
        "plt.figure(figsize=(10, 10))\n",
        "for i in range(9):\n",
        "  ax = plt.subplot(3, 3, i + 1)\n",
        "  plt.imshow(image_batch[i].numpy().astype(\"uint8\"))\n",
        "  label = label_batch[i]\n",
        "  plt.title(\"AGE: %d\"% label)\n",
        "  plt.axis(\"off\")"
      ],
      "execution_count": null,
      "outputs": []
    },
    {
      "cell_type": "markdown",
      "metadata": {
        "id": "R7B5AdcUCGGq"
      },
      "source": [
        "## Config network"
      ]
    },
    {
      "cell_type": "code",
      "metadata": {
        "id": "ITlaAal9NO98"
      },
      "source": [
        "errors = {}\n",
        "num_tot = 0\n",
        "err = 0\n",
        "for i in range(8):\n",
        "  errors[i] = { \"err\": 0, \"num\":0, \"mae\":0 }"
      ],
      "execution_count": null,
      "outputs": []
    },
    {
      "cell_type": "code",
      "metadata": {
        "id": "6phKkVslSAW9"
      },
      "source": [
        "from tensorflow.keras.applications import EfficientNetB0,DenseNet121\n",
        "from tensorflow.keras import layers, callbacks\n",
        "\n",
        "model_name = \"mauro_all_effnetv1_test_2\"\n",
        "weights_path = \"/content/drive/MyDrive/AI Playground/cv_age_estimation/dataset/finetuning/runs/\"\n",
        "\n",
        "if not os.path.exists(os.path.join(weights_path, \"%s\" % (model_name) )):\n",
        "      os.makedirs(os.path.join(weights_path, \"%s\" % (model_name) ))\n"
      ],
      "execution_count": null,
      "outputs": []
    },
    {
      "cell_type": "code",
      "metadata": {
        "id": "2VAA-Am7-HTD"
      },
      "source": [
        "class CustomCallback(tf.keras.callbacks.Callback):\n",
        "    ep_ = 1\n",
        "    def on_epoch_begin(self, epoch, logs=None):\n",
        "        print(\"epoch started\")\n",
        "\n",
        "    def on_epoch_end(self, epoch, logs=None):\n",
        "        print(\"epoch ended\")\n",
        "        \n",
        "        self.ep_ += 1\n",
        "\n",
        "    def on_test_end(self, logs=None):\n",
        "        print(\"test ended\")\n",
        "        print(errors_loss)\n",
        "        mlflow.log_metric(\"mae_valid\"  , logs[\"mae\"])\n",
        "        mlflow.log_metric(\"regularity_valid\", logs[\"regularity\"])\n",
        "\n",
        "        mlflow.log_metric(\"loss_valid\"  , logs[\"loss\"])\n",
        "        dict_ = { }\n",
        "\n",
        "        for i in range(8):\n",
        "          dict_[i] = { \"err\": \"%.2f\" % errors_loss[i][\"err\"], \"num\": \"%d\" % errors_loss[i][\"num\"], \"mae\": \"%.2f\" % errors_loss[i][\"mae\"], }\n",
        "        mlflow.log_param(\"per_class_errors_valid_%d\" % ( self.ep_,) ,dict_)\n",
        "\n",
        "\n",
        "    def on_test_begin(self, logs=None):\n",
        "        print(\"test started\")\n",
        "\n",
        "        num_tot_loss = 0\n",
        "        err_loss = 0\n",
        "        for i in range(8):\n",
        "          errors_loss[i] = { \"err\": 0, \"num\":0, \"mae\":0 }\n",
        "    \n",
        "\n",
        "    def on_train_batch_begin(self, batch, logs=None):\n",
        "\n",
        "        num_tot_loss = 0\n",
        "        err_loss = 0\n",
        "        \n",
        "        for i in range(8):\n",
        "          errors_loss[i] = { \"err\": 0, \"num\":0, \"mae\":0 }\n",
        "\n",
        "\n",
        "    def on_train_batch_end(self, batch, logs=None):\n",
        "        if batch % 100 == 0:\n",
        "            mlflow.log_metric(\"mae_train\"  , logs[\"mae\"])\n",
        "            mlflow.log_metric(\"regularity_train\", logs[\"regularity\"])\n",
        "            mlflow.log_metric(\"loss_train\"  , logs[\"loss\"])\n",
        "        num_tot_loss = 0\n",
        "        err_loss = 0\n",
        "        \n",
        "        for i in range(8):\n",
        "          errors_loss[i] = { \"err\": 0, \"num\":0, \"mae\":0 }\n",
        "\n",
        "\n",
        "def scheduler(epoch, lr):\n",
        "  lr_ = lr\n",
        "  if epoch > 1:\n",
        "    lr_ = lr_ * tf.math.exp(-0.15)\n",
        "  mlflow.log_param(\"lr_%d\" % ( epoch,) , lr_)\n",
        "\n",
        "  return lr_\n",
        "\n",
        "cs = [\n",
        "      callbacks.ModelCheckpoint(filepath=weights_path + \"/%s/best_val_loss.h5\" % (model_name),\n",
        "                                      monitor='val_loss',\n",
        "                                      mode='min', save_weights_only=True, save_best_only=True),\n",
        "      callbacks.ModelCheckpoint(filepath=weights_path + \"/%s/best_loss.h5\" % (model_name),\n",
        "                                      monitor='loss',\n",
        "                                      mode='min', save_weights_only=True, save_best_only=True),\n",
        "      callbacks.EarlyStopping(monitor='val_loss', patience=10, verbose=1, mode='min'),\n",
        "      callbacks.ReduceLROnPlateau(monitor='val_loss', factor=0.1, patience=2, verbose=1, min_delta=1e-4, min_lr=0.0001),\n",
        "      CustomCallback(),\n",
        "      callbacks.LearningRateScheduler(scheduler, verbose=1)\n",
        "\n",
        "\n",
        "  ]"
      ],
      "execution_count": null,
      "outputs": []
    },
    {
      "cell_type": "code",
      "metadata": {
        "id": "K9zshSwBSAW9"
      },
      "source": [
        "# train top layer (output)\n",
        "from tensorflow.keras import layers\n",
        "from tensorflow.keras import models\n",
        "from tensorflow.keras.layers.experimental import preprocessing\n",
        "\n",
        "def build_model():\n",
        "\n",
        "    inputs = layers.Input(shape=(img_height, img_width, 3))\n",
        "\n",
        "    model = EfficientNetB0(include_top=False, input_tensor=inputs, weights=\"imagenet\")\n",
        "\n",
        "    print(\"Number of layers in the base model: \", len(model.layers))\n",
        "\n",
        "    model.trainable = False\n",
        "\n",
        "    # Rebuild top\n",
        "    x = layers.GlobalAveragePooling2D(name=\"avg_pool\")(model.output)\n",
        "    x = layers.BatchNormalization(name=\"our_bn\")(x)\n",
        "\n",
        "    top_dropout_rate = 0.2\n",
        "    x = layers.Dropout(top_dropout_rate, name=\"top_dropout\")(x)\n",
        "\n",
        "    outputs = layers.Dense(1, activation=\"linear\", name=\"pred\")(x)\n",
        "\n",
        "    # Compile\n",
        "    model = tf.keras.Model(inputs, outputs, name=\"EfficientNet\")\n",
        "    \n",
        "    optimizer = tf.keras.optimizers.Adam(learning_rate=1e-3)\n",
        "    model.compile(\n",
        "        optimizer=optimizer, loss=\"mae\", metrics=[]\n",
        "    )\n",
        "    return model"
      ],
      "execution_count": null,
      "outputs": []
    },
    {
      "cell_type": "code",
      "metadata": {
        "id": "1kgY8HEoSAW9"
      },
      "source": [
        "def unfreeze_model(model):\n",
        "    # We unfreeze the top 20 layers while leaving BatchNorm layers frozen\n",
        "    for layer in model.layers[-20:]:\n",
        "        #if not isinstance(layer, layers.BatchNormalization) or layer.name == \"our_bn\": #if not isinstance(layer, layers.BatchNormalization) or layer.name == \"our_bn\":\n",
        "        layer.trainable = True"
      ],
      "execution_count": null,
      "outputs": []
    },
    {
      "cell_type": "code",
      "metadata": {
        "colab": {
          "base_uri": "https://localhost:8080/"
        },
        "id": "kQ_OGpvDSAW9",
        "outputId": "a73f1af4-819b-4943-eb64-e1c1e687b0ce"
      },
      "source": [
        "import gc\n",
        "gc.collect()"
      ],
      "execution_count": null,
      "outputs": [
        {
          "output_type": "execute_result",
          "data": {
            "text/plain": [
              "1181"
            ]
          },
          "metadata": {},
          "execution_count": 43
        }
      ]
    },
    {
      "cell_type": "code",
      "metadata": {
        "colab": {
          "base_uri": "https://localhost:8080/"
        },
        "id": "HagWDkJrSAW9",
        "outputId": "0148e56f-a31f-4714-fa2c-8abdf91d7681"
      },
      "source": [
        "model = build_model()"
      ],
      "execution_count": null,
      "outputs": [
        {
          "output_type": "stream",
          "name": "stdout",
          "text": [
            "Number of layers in the base model:  237\n"
          ]
        }
      ]
    },
    {
      "cell_type": "code",
      "metadata": {
        "id": "9NUoOuiLSAW9"
      },
      "source": [
        "unfreeze_model(model)"
      ],
      "execution_count": null,
      "outputs": []
    },
    {
      "cell_type": "code",
      "metadata": {
        "id": "HfmHwaTLO90U"
      },
      "source": [
        "for layer in model.layers[:]:\n",
        "  print(layer.name, str(layer.trainable))"
      ],
      "execution_count": null,
      "outputs": []
    },
    {
      "cell_type": "code",
      "metadata": {
        "id": "rn0GDStWSAW-"
      },
      "source": [
        "model.summary()"
      ],
      "execution_count": null,
      "outputs": []
    },
    {
      "cell_type": "code",
      "metadata": {
        "id": "501VsBS6SAW-"
      },
      "source": [
        "model.load_weights(weights_path + model_name + \"/best_loss.h5\", )"
      ],
      "execution_count": null,
      "outputs": []
    },
    {
      "cell_type": "code",
      "metadata": {
        "id": "5wo2LiQdyUl6"
      },
      "source": [
        "model.load_weights(\"best_val_loss_2.h5\", )"
      ],
      "execution_count": null,
      "outputs": []
    },
    {
      "cell_type": "markdown",
      "metadata": {
        "id": "9U7ATysFBcQM"
      },
      "source": [
        "## Custom metric (regularity)"
      ]
    },
    {
      "cell_type": "code",
      "metadata": {
        "id": "hF28eROPNKfu"
      },
      "source": [
        "def get_bin(age):\n",
        "    if age <= 10:\n",
        "      return 0\n",
        "    elif age > 10 and age <= 20:\n",
        "      return 1\n",
        "    elif age > 20 and age <= 30:\n",
        "      return 2\n",
        "    elif age > 30 and age <= 40:\n",
        "      return 3\n",
        "    elif age > 40 and age <= 50:\n",
        "      return 4\n",
        "    elif age > 50 and age <= 60:\n",
        "      return 5\n",
        "    elif age > 60 and age <= 70:\n",
        "      return 6\n",
        "    elif age > 70 :\n",
        "      return 7"
      ],
      "execution_count": null,
      "outputs": []
    },
    {
      "cell_type": "code",
      "metadata": {
        "id": "p4Y8-HcEOhLs"
      },
      "source": [
        "def compute_reg(mae):\n",
        "\n",
        "  sum_diff = 0\n",
        "  for a in errors_loss:\n",
        "    if errors_loss[a][\"num\"] == 0:\n",
        "      continue\n",
        "    sum_diff += pow((errors_loss[a][\"mae\"] - mae), 2)\n",
        "  \n",
        "  regularity = sum_diff / 8\n",
        "\n",
        "  return np.sqrt(regularity)"
      ],
      "execution_count": null,
      "outputs": []
    },
    {
      "cell_type": "code",
      "metadata": {
        "id": "beuZMAMoQ7IL"
      },
      "source": [
        "def compute_reg32(mae):\n",
        "  n = 8\n",
        "  for a in errors_loss:\n",
        "    if errors_loss[a][\"num\"] == 0:\n",
        "      n -= 1\n",
        "      continue\n",
        "    errors_loss[a][\"mae\"] = errors_loss[a][\"err\"] / errors_loss[a][\"num\"]\n",
        "  regularity = 0\n",
        "\n",
        "  sum_diff = 0\n",
        "  for a in errors_loss:\n",
        "    if errors_loss[a][\"num\"] == 0:\n",
        "      continue\n",
        "    sum_diff += pow((errors_loss[a][\"mae\"] - mae), 2)\n",
        "\n",
        "  if n > 0:\n",
        "    regularity = sum_diff / 8\n",
        "  else:\n",
        "    regularity = 0\n",
        "  return np.sqrt(regularity).astype(np.float32)"
      ],
      "execution_count": null,
      "outputs": []
    },
    {
      "cell_type": "code",
      "metadata": {
        "id": "t5Nm2JMPU-3m"
      },
      "source": [
        "def update_errors_dict(y_true, y_pred, err, num_tot):\n",
        "  \n",
        "  y_true_ = y_true.numpy().reshape(-1)\n",
        "  y_pred_ = y_pred.numpy().reshape(-1)\n",
        "\n",
        "  for i in range(len(y_true_)):\n",
        "    e = abs(y_true_[i] - y_pred_[i])\n",
        "    errors_loss[get_bin(y_true_[i])][\"err\"] += e\n",
        "    errors_loss[get_bin(y_true_[i])][\"num\"] += 1\n",
        "    err += e\n",
        "  num_tot += len(y_true_)\n",
        "      \n",
        "  return 0.0"
      ],
      "execution_count": null,
      "outputs": []
    },
    {
      "cell_type": "code",
      "metadata": {
        "id": "tyR2DjRALa2D"
      },
      "source": [
        "def metric_reg(errors, num_tot, err):\n",
        "\n",
        "  def regularity(y_true, y_pred):\n",
        "\n",
        "    mae = tf.keras.losses.MeanAbsoluteError()\n",
        "    mae_ = mae(y_true, y_pred)\n",
        "    return tf.py_function(compute_reg, [mae_], np.float64)\n",
        "  return regularity"
      ],
      "execution_count": null,
      "outputs": []
    },
    {
      "cell_type": "code",
      "metadata": {
        "id": "Jg8Uf3WSBq2U"
      },
      "source": [
        "errors_loss = {}\n",
        "num_tot_loss = 0\n",
        "err_loss = 0\n",
        "for i in range(8):\n",
        "  errors_loss[i] = { \"err\": 0, \"num\":0, \"mae\":0 }"
      ],
      "execution_count": null,
      "outputs": []
    },
    {
      "cell_type": "markdown",
      "metadata": {
        "id": "GacaSTg0BkN2"
      },
      "source": [
        "## Train model"
      ]
    },
    {
      "cell_type": "code",
      "metadata": {
        "id": "KWGNZidDdNdi"
      },
      "source": [
        "mlflow.end_run()"
      ],
      "execution_count": null,
      "outputs": []
    },
    {
      "cell_type": "code",
      "metadata": {
        "colab": {
          "base_uri": "https://localhost:8080/"
        },
        "id": "brUf3IaCdFPn",
        "outputId": "1b624a10-f849-4aec-e30c-dbfe637e205f"
      },
      "source": [
        "mlflow.start_run()"
      ],
      "execution_count": null,
      "outputs": [
        {
          "output_type": "execute_result",
          "data": {
            "text/plain": [
              "<ActiveRun: >"
            ]
          },
          "metadata": {},
          "execution_count": 189
        }
      ]
    },
    {
      "cell_type": "code",
      "metadata": {
        "id": "mTSo-d_7oG9A"
      },
      "source": [
        "mlflow.log_param(\"optimizer\", \"Adam\")"
      ],
      "execution_count": null,
      "outputs": []
    },
    {
      "cell_type": "code",
      "metadata": {
        "id": "Mco5oM5fSAW-"
      },
      "source": [
        "optimizer = tf.keras.optimizers.Adam(learning_rate=1e-3)\n",
        "model.compile(\n",
        "    optimizer=optimizer, loss=\"mae\", metrics=[metric_reg(errors_loss, num_tot_loss, err_loss), \"mae\"]\n",
        ")"
      ],
      "execution_count": null,
      "outputs": []
    },
    {
      "cell_type": "code",
      "metadata": {
        "colab": {
          "base_uri": "https://localhost:8080/",
          "height": 1000
        },
        "id": "R7H-BxhiSAW-",
        "outputId": "2173bbae-9d99-476c-d04f-e69688c62ace"
      },
      "source": [
        "model.fit(\n",
        "  train_ds,\n",
        "  callbacks=cs,\n",
        "  validation_data=valid_ds,\n",
        "  epochs=20\n",
        ")"
      ],
      "execution_count": null,
      "outputs": [
        {
          "output_type": "stream",
          "name": "stdout",
          "text": [
            "Epoch 1/20\n",
            "epoch started\n",
            "\n",
            "Epoch 00001: LearningRateScheduler setting learning rate to 0.0010000000474974513.\n",
            "6170/6170 [==============================] - ETA: 0s - loss: 8.7035 - regularity: 2.0782 - mae: 6.0019test started\n",
            "test ended\n",
            "{0: {'err': 813.3555509150028, 'num': 240, 'mae': 3.388981462145845}, 1: {'err': 1838.188660621643, 'num': 360, 'mae': 5.106079612837897}, 2: {'err': 2820.041097640991, 'num': 660, 'mae': 4.2727895418802895}, 3: {'err': 3956.9253721237183, 'num': 900, 'mae': 4.396583746804131}, 4: {'err': 4163.1449909210205, 'num': 900, 'mae': 4.625716656578912}, 5: {'err': 3881.8549728393555, 'num': 900, 'mae': 4.313172192043728}, 6: {'err': 1741.2029495239258, 'num': 360, 'mae': 4.836674859788682}, 7: {'err': 1779.9946517944336, 'num': 240, 'mae': 7.4166443824768065}}\n",
            "6170/6170 [==============================] - 1052s 169ms/step - loss: 8.7035 - regularity: 2.0782 - mae: 6.0019 - val_loss: 6.2543 - val_regularity: 1.2676 - val_mae: 4.6041\n",
            "epoch ended\n",
            "Epoch 2/20\n",
            "epoch started\n",
            "\n",
            "Epoch 00002: LearningRateScheduler setting learning rate to 0.0010000000474974513.\n",
            "6170/6170 [==============================] - ETA: 0s - loss: 6.4942 - regularity: 1.4822 - mae: 4.5673test started\n",
            "test ended\n",
            "{0: {'err': 1187.7497276067734, 'num': 240, 'mae': 4.948957198361556}, 1: {'err': 2046.4124174118042, 'num': 360, 'mae': 5.684478937255012}, 2: {'err': 2362.737462043762, 'num': 660, 'mae': 3.5799052455208518}, 3: {'err': 3386.4063663482666, 'num': 900, 'mae': 3.762673740386963}, 4: {'err': 3715.7548599243164, 'num': 900, 'mae': 4.128616511027018}, 5: {'err': 3678.651544570923, 'num': 900, 'mae': 4.087390605078803}, 6: {'err': 2041.3204917907715, 'num': 360, 'mae': 5.6703346994188095}, 7: {'err': 2164.8678760528564, 'num': 240, 'mae': 9.020282816886901}}\n",
            "6170/6170 [==============================] - 1048s 170ms/step - loss: 6.4942 - regularity: 1.4822 - mae: 4.5673 - val_loss: 7.0836 - val_regularity: 1.9740 - val_mae: 4.5140\n",
            "epoch ended\n",
            "Epoch 3/20\n",
            "epoch started\n",
            "\n",
            "Epoch 00003: LearningRateScheduler setting learning rate to tf.Tensor(0.00086070795, shape=(), dtype=float32).\n",
            "6170/6170 [==============================] - ETA: 0s - loss: 6.0096 - regularity: 1.3883 - mae: 4.2049test started\n",
            "test ended\n",
            "{0: {'err': 856.0964195728302, 'num': 240, 'mae': 3.5670684148867924}, 1: {'err': 1802.6133995056152, 'num': 360, 'mae': 5.0072594430711534}, 2: {'err': 2321.0681619644165, 'num': 660, 'mae': 3.516769942370328}, 3: {'err': 3480.0158462524414, 'num': 900, 'mae': 3.866684273613824}, 4: {'err': 3827.5476474761963, 'num': 900, 'mae': 4.252830719417996}, 5: {'err': 3497.3889198303223, 'num': 900, 'mae': 3.885987688700358}, 6: {'err': 1728.3878059387207, 'num': 360, 'mae': 4.801077238718668}, 7: {'err': 1652.0982666015625, 'num': 240, 'mae': 6.8837427775065105}}\n",
            "6170/6170 [==============================] - 1052s 170ms/step - loss: 6.0096 - regularity: 1.3883 - mae: 4.2049 - val_loss: 5.6963 - val_regularity: 1.1491 - val_mae: 4.2029\n",
            "epoch ended\n",
            "Epoch 4/20\n",
            "epoch started\n",
            "\n",
            "Epoch 00004: LearningRateScheduler setting learning rate to tf.Tensor(0.00074081816, shape=(), dtype=float32).\n",
            "6170/6170 [==============================] - ETA: 0s - loss: 5.7279 - regularity: 1.3422 - mae: 3.9831test started\n",
            "test ended\n",
            "{0: {'err': 696.7285628020763, 'num': 240, 'mae': 2.903035678341985}, 1: {'err': 1640.0637319087982, 'num': 360, 'mae': 4.555732588635551}, 2: {'err': 2668.9806871414185, 'num': 660, 'mae': 4.043910132032452}, 3: {'err': 3610.2050132751465, 'num': 900, 'mae': 4.011338903639052}, 4: {'err': 3533.4412155151367, 'num': 900, 'mae': 3.9260457950168184}, 5: {'err': 3268.00076007843, 'num': 900, 'mae': 3.6311119556427003}, 6: {'err': 1683.3237438201904, 'num': 360, 'mae': 4.6758992883894175}, 7: {'err': 1757.7896842956543, 'num': 240, 'mae': 7.324123684565226}}\n",
            "6170/6170 [==============================] - 1051s 170ms/step - loss: 5.7279 - regularity: 1.3422 - mae: 3.9831 - val_loss: 6.0672 - val_regularity: 1.4832 - val_mae: 4.1356\n",
            "epoch ended\n",
            "Epoch 5/20\n",
            "epoch started\n",
            "\n",
            "Epoch 00005: LearningRateScheduler setting learning rate to tf.Tensor(0.0006376281, shape=(), dtype=float32).\n",
            "6170/6170 [==============================] - ETA: 0s - loss: 5.5320 - regularity: 1.3105 - mae: 3.8285test started\n",
            "test ended\n",
            "{0: {'err': 1157.1429921090603, 'num': 240, 'mae': 4.821429133787751}, 1: {'err': 2299.209290742874, 'num': 360, 'mae': 6.386692474285762}, 2: {'err': 2555.476739883423, 'num': 660, 'mae': 3.8719344543688226}, 3: {'err': 2926.4953422546387, 'num': 900, 'mae': 3.251661491394043}, 4: {'err': 3383.0261096954346, 'num': 900, 'mae': 3.758917899661594}, 5: {'err': 3460.5009899139404, 'num': 900, 'mae': 3.8450010999043784}, 6: {'err': 2001.8814525604248, 'num': 360, 'mae': 5.560781812667846}, 7: {'err': 2155.899990081787, 'num': 240, 'mae': 8.98291662534078}}\n",
            "6170/6170 [==============================] - 1051s 170ms/step - loss: 5.5320 - regularity: 1.3105 - mae: 3.8285 - val_loss: 7.1691 - val_regularity: 2.1550 - val_mae: 4.3727\n",
            "\n",
            "Epoch 00005: ReduceLROnPlateau reducing learning rate to 0.0001.\n",
            "epoch ended\n",
            "Epoch 6/20\n",
            "epoch started\n",
            "\n",
            "Epoch 00006: LearningRateScheduler setting learning rate to tf.Tensor(8.6070795e-05, shape=(), dtype=float32).\n",
            "6170/6170 [==============================] - ETA: 0s - loss: 5.1990 - regularity: 1.2471 - mae: 3.5779test started\n",
            "test ended\n",
            "{0: {'err': 785.4006338715553, 'num': 240, 'mae': 3.2725026411314806}, 1: {'err': 1586.1571600437164, 'num': 360, 'mae': 4.405992111232545}, 2: {'err': 2054.309316635132, 'num': 660, 'mae': 3.112589873689594}, 3: {'err': 3190.763011932373, 'num': 900, 'mae': 3.5452922354804146}, 4: {'err': 3698.237071990967, 'num': 900, 'mae': 4.109152302212185}, 5: {'err': 3451.694586753845, 'num': 900, 'mae': 3.8352162075042724}, 6: {'err': 1688.4270248413086, 'num': 360, 'mae': 4.690075069003635}, 7: {'err': 1705.414056777954, 'num': 240, 'mae': 7.105891903241475}}\n",
            "6170/6170 [==============================] - 1053s 170ms/step - loss: 5.1990 - regularity: 1.2471 - mae: 3.5779 - val_loss: 5.9891 - val_regularity: 1.5439 - val_mae: 3.9825\n",
            "epoch ended\n",
            "Epoch 7/20\n",
            "epoch started\n",
            "\n",
            "Epoch 00007: LearningRateScheduler setting learning rate to tf.Tensor(7.4081814e-05, shape=(), dtype=float32).\n",
            "6170/6170 [==============================] - ETA: 0s - loss: 5.1499 - regularity: 1.2397 - mae: 3.5383test started\n",
            "test ended\n",
            "{0: {'err': 788.6052094399929, 'num': 240, 'mae': 3.285855039333304}, 1: {'err': 1592.1395328044891, 'num': 360, 'mae': 4.422609813345803}, 2: {'err': 2088.952940940857, 'num': 660, 'mae': 3.165080213546753}, 3: {'err': 3135.895875930786, 'num': 900, 'mae': 3.484328751034207}, 4: {'err': 3659.8227577209473, 'num': 900, 'mae': 4.066469730801052}, 5: {'err': 3463.7700624465942, 'num': 900, 'mae': 3.848633402718438}, 6: {'err': 1725.0456428527832, 'num': 360, 'mae': 4.791793452368842}, 7: {'err': 1729.396469116211, 'num': 240, 'mae': 7.205818621317546}}\n",
            "6170/6170 [==============================] - 1050s 170ms/step - loss: 5.1499 - regularity: 1.2397 - mae: 3.5383 - val_loss: 5.6867 - val_regularity: 1.3063 - val_mae: 3.9876\n",
            "epoch ended\n",
            "Epoch 8/20\n",
            "epoch started\n",
            "\n",
            "Epoch 00008: LearningRateScheduler setting learning rate to tf.Tensor(6.37628e-05, shape=(), dtype=float32).\n",
            "6170/6170 [==============================] - ETA: 0s - loss: 5.0943 - regularity: 1.2321 - mae: 3.4926test started\n",
            "test ended\n",
            "{0: {'err': 748.0489093363285, 'num': 240, 'mae': 3.1168704555680353}, 1: {'err': 1489.8646402359009, 'num': 360, 'mae': 4.138512889544169}, 2: {'err': 2023.4565887451172, 'num': 660, 'mae': 3.0658433162804806}, 3: {'err': 3225.7309951782227, 'num': 900, 'mae': 3.5841455501980253}, 4: {'err': 3727.0386295318604, 'num': 900, 'mae': 4.141154032813178}, 5: {'err': 3520.737361907959, 'num': 900, 'mae': 3.9119304021199546}, 6: {'err': 1775.209852218628, 'num': 360, 'mae': 4.931138478385078}, 7: {'err': 1817.2365036010742, 'num': 240, 'mae': 7.571818765004476}}\n",
            "6170/6170 [==============================] - 1057s 171ms/step - loss: 5.0943 - regularity: 1.2321 - mae: 3.4926 - val_loss: 6.0924 - val_regularity: 1.5933 - val_mae: 4.0192\n",
            "epoch ended\n",
            "Epoch 9/20\n",
            "epoch started\n",
            "\n",
            "Epoch 00009: LearningRateScheduler setting learning rate to tf.Tensor(5.488115e-05, shape=(), dtype=float32).\n",
            "6170/6170 [==============================] - ETA: 0s - loss: 5.0760 - regularity: 1.2267 - mae: 3.4812test started\n",
            "test ended\n",
            "{0: {'err': 734.7731203436852, 'num': 240, 'mae': 3.061554668098688}, 1: {'err': 1487.49933719635, 'num': 360, 'mae': 4.1319426033231945}, 2: {'err': 2022.0791244506836, 'num': 660, 'mae': 3.0637562491677026}, 3: {'err': 3205.4507484436035, 'num': 900, 'mae': 3.561611942715115}, 4: {'err': 3739.2374382019043, 'num': 900, 'mae': 4.154708264668782}, 5: {'err': 3519.9070987701416, 'num': 900, 'mae': 3.9110078875223797}, 6: {'err': 1712.6006488800049, 'num': 360, 'mae': 4.75722402466668}, 7: {'err': 1710.8404006958008, 'num': 240, 'mae': 7.1285016695658365}}\n",
            "6170/6170 [==============================] - 1067s 173ms/step - loss: 5.0760 - regularity: 1.2267 - mae: 3.4812 - val_loss: 5.8387 - val_regularity: 1.4311 - val_mae: 3.9764\n",
            "epoch ended\n",
            "Epoch 10/20\n",
            "epoch started\n",
            "\n",
            "Epoch 00010: LearningRateScheduler setting learning rate to tf.Tensor(4.723664e-05, shape=(), dtype=float32).\n",
            "2925/6170 [=============>................] - ETA: 10:56 - loss: 5.0597 - regularity: 1.2288 - mae: 3.4623"
          ]
        },
        {
          "output_type": "error",
          "ename": "KeyboardInterrupt",
          "evalue": "ignored",
          "traceback": [
            "\u001b[0;31m---------------------------------------------------------------------------\u001b[0m",
            "\u001b[0;31mKeyboardInterrupt\u001b[0m                         Traceback (most recent call last)",
            "\u001b[0;32m<ipython-input-192-ea0afd932979>\u001b[0m in \u001b[0;36m<module>\u001b[0;34m()\u001b[0m\n\u001b[1;32m      3\u001b[0m   \u001b[0mcallbacks\u001b[0m\u001b[0;34m=\u001b[0m\u001b[0mcs\u001b[0m\u001b[0;34m,\u001b[0m\u001b[0;34m\u001b[0m\u001b[0;34m\u001b[0m\u001b[0m\n\u001b[1;32m      4\u001b[0m   \u001b[0mvalidation_data\u001b[0m\u001b[0;34m=\u001b[0m\u001b[0mvalid_ds\u001b[0m\u001b[0;34m,\u001b[0m\u001b[0;34m\u001b[0m\u001b[0;34m\u001b[0m\u001b[0m\n\u001b[0;32m----> 5\u001b[0;31m   \u001b[0mepochs\u001b[0m\u001b[0;34m=\u001b[0m\u001b[0;36m20\u001b[0m\u001b[0;34m\u001b[0m\u001b[0;34m\u001b[0m\u001b[0m\n\u001b[0m\u001b[1;32m      6\u001b[0m )\n",
            "\u001b[0;32m/usr/local/lib/python3.7/dist-packages/keras/engine/training.py\u001b[0m in \u001b[0;36mfit\u001b[0;34m(self, x, y, batch_size, epochs, verbose, callbacks, validation_split, validation_data, shuffle, class_weight, sample_weight, initial_epoch, steps_per_epoch, validation_steps, validation_batch_size, validation_freq, max_queue_size, workers, use_multiprocessing)\u001b[0m\n\u001b[1;32m   1182\u001b[0m                 _r=1):\n\u001b[1;32m   1183\u001b[0m               \u001b[0mcallbacks\u001b[0m\u001b[0;34m.\u001b[0m\u001b[0mon_train_batch_begin\u001b[0m\u001b[0;34m(\u001b[0m\u001b[0mstep\u001b[0m\u001b[0;34m)\u001b[0m\u001b[0;34m\u001b[0m\u001b[0;34m\u001b[0m\u001b[0m\n\u001b[0;32m-> 1184\u001b[0;31m               \u001b[0mtmp_logs\u001b[0m \u001b[0;34m=\u001b[0m \u001b[0mself\u001b[0m\u001b[0;34m.\u001b[0m\u001b[0mtrain_function\u001b[0m\u001b[0;34m(\u001b[0m\u001b[0miterator\u001b[0m\u001b[0;34m)\u001b[0m\u001b[0;34m\u001b[0m\u001b[0;34m\u001b[0m\u001b[0m\n\u001b[0m\u001b[1;32m   1185\u001b[0m               \u001b[0;32mif\u001b[0m \u001b[0mdata_handler\u001b[0m\u001b[0;34m.\u001b[0m\u001b[0mshould_sync\u001b[0m\u001b[0;34m:\u001b[0m\u001b[0;34m\u001b[0m\u001b[0;34m\u001b[0m\u001b[0m\n\u001b[1;32m   1186\u001b[0m                 \u001b[0mcontext\u001b[0m\u001b[0;34m.\u001b[0m\u001b[0masync_wait\u001b[0m\u001b[0;34m(\u001b[0m\u001b[0;34m)\u001b[0m\u001b[0;34m\u001b[0m\u001b[0;34m\u001b[0m\u001b[0m\n",
            "\u001b[0;32m/usr/local/lib/python3.7/dist-packages/tensorflow/python/eager/def_function.py\u001b[0m in \u001b[0;36m__call__\u001b[0;34m(self, *args, **kwds)\u001b[0m\n\u001b[1;32m    883\u001b[0m \u001b[0;34m\u001b[0m\u001b[0m\n\u001b[1;32m    884\u001b[0m       \u001b[0;32mwith\u001b[0m \u001b[0mOptionalXlaContext\u001b[0m\u001b[0;34m(\u001b[0m\u001b[0mself\u001b[0m\u001b[0;34m.\u001b[0m\u001b[0m_jit_compile\u001b[0m\u001b[0;34m)\u001b[0m\u001b[0;34m:\u001b[0m\u001b[0;34m\u001b[0m\u001b[0;34m\u001b[0m\u001b[0m\n\u001b[0;32m--> 885\u001b[0;31m         \u001b[0mresult\u001b[0m \u001b[0;34m=\u001b[0m \u001b[0mself\u001b[0m\u001b[0;34m.\u001b[0m\u001b[0m_call\u001b[0m\u001b[0;34m(\u001b[0m\u001b[0;34m*\u001b[0m\u001b[0margs\u001b[0m\u001b[0;34m,\u001b[0m \u001b[0;34m**\u001b[0m\u001b[0mkwds\u001b[0m\u001b[0;34m)\u001b[0m\u001b[0;34m\u001b[0m\u001b[0;34m\u001b[0m\u001b[0m\n\u001b[0m\u001b[1;32m    886\u001b[0m \u001b[0;34m\u001b[0m\u001b[0m\n\u001b[1;32m    887\u001b[0m       \u001b[0mnew_tracing_count\u001b[0m \u001b[0;34m=\u001b[0m \u001b[0mself\u001b[0m\u001b[0;34m.\u001b[0m\u001b[0mexperimental_get_tracing_count\u001b[0m\u001b[0;34m(\u001b[0m\u001b[0;34m)\u001b[0m\u001b[0;34m\u001b[0m\u001b[0;34m\u001b[0m\u001b[0m\n",
            "\u001b[0;32m/usr/local/lib/python3.7/dist-packages/tensorflow/python/eager/def_function.py\u001b[0m in \u001b[0;36m_call\u001b[0;34m(self, *args, **kwds)\u001b[0m\n\u001b[1;32m    915\u001b[0m       \u001b[0;31m# In this case we have created variables on the first call, so we run the\u001b[0m\u001b[0;34m\u001b[0m\u001b[0;34m\u001b[0m\u001b[0;34m\u001b[0m\u001b[0m\n\u001b[1;32m    916\u001b[0m       \u001b[0;31m# defunned version which is guaranteed to never create variables.\u001b[0m\u001b[0;34m\u001b[0m\u001b[0;34m\u001b[0m\u001b[0;34m\u001b[0m\u001b[0m\n\u001b[0;32m--> 917\u001b[0;31m       \u001b[0;32mreturn\u001b[0m \u001b[0mself\u001b[0m\u001b[0;34m.\u001b[0m\u001b[0m_stateless_fn\u001b[0m\u001b[0;34m(\u001b[0m\u001b[0;34m*\u001b[0m\u001b[0margs\u001b[0m\u001b[0;34m,\u001b[0m \u001b[0;34m**\u001b[0m\u001b[0mkwds\u001b[0m\u001b[0;34m)\u001b[0m  \u001b[0;31m# pylint: disable=not-callable\u001b[0m\u001b[0;34m\u001b[0m\u001b[0;34m\u001b[0m\u001b[0m\n\u001b[0m\u001b[1;32m    918\u001b[0m     \u001b[0;32melif\u001b[0m \u001b[0mself\u001b[0m\u001b[0;34m.\u001b[0m\u001b[0m_stateful_fn\u001b[0m \u001b[0;32mis\u001b[0m \u001b[0;32mnot\u001b[0m \u001b[0;32mNone\u001b[0m\u001b[0;34m:\u001b[0m\u001b[0;34m\u001b[0m\u001b[0;34m\u001b[0m\u001b[0m\n\u001b[1;32m    919\u001b[0m       \u001b[0;31m# Release the lock early so that multiple threads can perform the call\u001b[0m\u001b[0;34m\u001b[0m\u001b[0;34m\u001b[0m\u001b[0;34m\u001b[0m\u001b[0m\n",
            "\u001b[0;32m/usr/local/lib/python3.7/dist-packages/tensorflow/python/eager/function.py\u001b[0m in \u001b[0;36m__call__\u001b[0;34m(self, *args, **kwargs)\u001b[0m\n\u001b[1;32m   3038\u001b[0m        filtered_flat_args) = self._maybe_define_function(args, kwargs)\n\u001b[1;32m   3039\u001b[0m     return graph_function._call_flat(\n\u001b[0;32m-> 3040\u001b[0;31m         filtered_flat_args, captured_inputs=graph_function.captured_inputs)  # pylint: disable=protected-access\n\u001b[0m\u001b[1;32m   3041\u001b[0m \u001b[0;34m\u001b[0m\u001b[0m\n\u001b[1;32m   3042\u001b[0m   \u001b[0;34m@\u001b[0m\u001b[0mproperty\u001b[0m\u001b[0;34m\u001b[0m\u001b[0;34m\u001b[0m\u001b[0m\n",
            "\u001b[0;32m/usr/local/lib/python3.7/dist-packages/tensorflow/python/eager/function.py\u001b[0m in \u001b[0;36m_call_flat\u001b[0;34m(self, args, captured_inputs, cancellation_manager)\u001b[0m\n\u001b[1;32m   1962\u001b[0m       \u001b[0;31m# No tape is watching; skip to running the function.\u001b[0m\u001b[0;34m\u001b[0m\u001b[0;34m\u001b[0m\u001b[0;34m\u001b[0m\u001b[0m\n\u001b[1;32m   1963\u001b[0m       return self._build_call_outputs(self._inference_function.call(\n\u001b[0;32m-> 1964\u001b[0;31m           ctx, args, cancellation_manager=cancellation_manager))\n\u001b[0m\u001b[1;32m   1965\u001b[0m     forward_backward = self._select_forward_and_backward_functions(\n\u001b[1;32m   1966\u001b[0m         \u001b[0margs\u001b[0m\u001b[0;34m,\u001b[0m\u001b[0;34m\u001b[0m\u001b[0;34m\u001b[0m\u001b[0m\n",
            "\u001b[0;32m/usr/local/lib/python3.7/dist-packages/tensorflow/python/eager/function.py\u001b[0m in \u001b[0;36mcall\u001b[0;34m(self, ctx, args, cancellation_manager)\u001b[0m\n\u001b[1;32m    594\u001b[0m               \u001b[0minputs\u001b[0m\u001b[0;34m=\u001b[0m\u001b[0margs\u001b[0m\u001b[0;34m,\u001b[0m\u001b[0;34m\u001b[0m\u001b[0;34m\u001b[0m\u001b[0m\n\u001b[1;32m    595\u001b[0m               \u001b[0mattrs\u001b[0m\u001b[0;34m=\u001b[0m\u001b[0mattrs\u001b[0m\u001b[0;34m,\u001b[0m\u001b[0;34m\u001b[0m\u001b[0;34m\u001b[0m\u001b[0m\n\u001b[0;32m--> 596\u001b[0;31m               ctx=ctx)\n\u001b[0m\u001b[1;32m    597\u001b[0m         \u001b[0;32melse\u001b[0m\u001b[0;34m:\u001b[0m\u001b[0;34m\u001b[0m\u001b[0;34m\u001b[0m\u001b[0m\n\u001b[1;32m    598\u001b[0m           outputs = execute.execute_with_cancellation(\n",
            "\u001b[0;32m/usr/local/lib/python3.7/dist-packages/tensorflow/python/eager/execute.py\u001b[0m in \u001b[0;36mquick_execute\u001b[0;34m(op_name, num_outputs, inputs, attrs, ctx, name)\u001b[0m\n\u001b[1;32m     58\u001b[0m     \u001b[0mctx\u001b[0m\u001b[0;34m.\u001b[0m\u001b[0mensure_initialized\u001b[0m\u001b[0;34m(\u001b[0m\u001b[0;34m)\u001b[0m\u001b[0;34m\u001b[0m\u001b[0;34m\u001b[0m\u001b[0m\n\u001b[1;32m     59\u001b[0m     tensors = pywrap_tfe.TFE_Py_Execute(ctx._handle, device_name, op_name,\n\u001b[0;32m---> 60\u001b[0;31m                                         inputs, attrs, num_outputs)\n\u001b[0m\u001b[1;32m     61\u001b[0m   \u001b[0;32mexcept\u001b[0m \u001b[0mcore\u001b[0m\u001b[0;34m.\u001b[0m\u001b[0m_NotOkStatusException\u001b[0m \u001b[0;32mas\u001b[0m \u001b[0me\u001b[0m\u001b[0;34m:\u001b[0m\u001b[0;34m\u001b[0m\u001b[0;34m\u001b[0m\u001b[0m\n\u001b[1;32m     62\u001b[0m     \u001b[0;32mif\u001b[0m \u001b[0mname\u001b[0m \u001b[0;32mis\u001b[0m \u001b[0;32mnot\u001b[0m \u001b[0;32mNone\u001b[0m\u001b[0;34m:\u001b[0m\u001b[0;34m\u001b[0m\u001b[0;34m\u001b[0m\u001b[0m\n",
            "\u001b[0;31mKeyboardInterrupt\u001b[0m: "
          ]
        }
      ]
    },
    {
      "cell_type": "code",
      "metadata": {
        "id": "JWvE4-fRNbxb"
      },
      "source": [
        "model.save_weights(weights_path + model_name + \"/best_loss_.h5\")"
      ],
      "execution_count": null,
      "outputs": []
    },
    {
      "cell_type": "code",
      "metadata": {
        "id": "h18OPggXSAW-"
      },
      "source": [
        "model.load_weights(weights_path + model_name + \"/best_val_loss.h5\")"
      ],
      "execution_count": null,
      "outputs": []
    },
    {
      "cell_type": "code",
      "metadata": {
        "colab": {
          "base_uri": "https://localhost:8080/",
          "height": 395
        },
        "id": "Z-H679UtSAW-",
        "outputId": "6c49f507-615c-4dc8-cb35-ee8af10e16fe"
      },
      "source": [
        "model.evaluate(test_ds,callbacks=cs,)"
      ],
      "execution_count": null,
      "outputs": [
        {
          "output_type": "stream",
          "name": "stdout",
          "text": [
            "test started\n",
            "72/72 [==============================] - 14s 155ms/step - loss: 19.2942 - regularity: 6.7455 - mae: 10.5223\n",
            "test ended\n",
            "{0: {'err': 12061.75424003601, 'num': 480, 'mae': 25.12865466674169}, 1: {'err': 14936.957523345947, 'num': 720, 'mae': 20.74577433798048}, 2: {'err': 17739.013346672058, 'num': 1320, 'mae': 13.43864647475156}, 3: {'err': 17141.89578819275, 'num': 1800, 'mae': 9.52327543788486}, 4: {'err': 12858.924434661865, 'num': 1800, 'mae': 7.1438469081454805}, 5: {'err': 11839.961585998535, 'num': 1800, 'mae': 6.577756436665853}, 6: {'err': 4863.2419509887695, 'num': 720, 'mae': 6.754502709706625}, 7: {'err': 4521.795753479004, 'num': 480, 'mae': 9.420407819747926}}\n"
          ]
        },
        {
          "output_type": "error",
          "ename": "TypeError",
          "evalue": "ignored",
          "traceback": [
            "\u001b[0;31m---------------------------------------------------------------------------\u001b[0m",
            "\u001b[0;31mTypeError\u001b[0m                                 Traceback (most recent call last)",
            "\u001b[0;32m<ipython-input-142-d7749a8e9b8b>\u001b[0m in \u001b[0;36m<module>\u001b[0;34m()\u001b[0m\n\u001b[0;32m----> 1\u001b[0;31m \u001b[0mmodel\u001b[0m\u001b[0;34m.\u001b[0m\u001b[0mevaluate\u001b[0m\u001b[0;34m(\u001b[0m\u001b[0mtest_ds\u001b[0m\u001b[0;34m,\u001b[0m\u001b[0mcallbacks\u001b[0m\u001b[0;34m=\u001b[0m\u001b[0mcs\u001b[0m\u001b[0;34m,\u001b[0m\u001b[0;34m)\u001b[0m\u001b[0;34m\u001b[0m\u001b[0;34m\u001b[0m\u001b[0m\n\u001b[0m",
            "\u001b[0;32m/usr/local/lib/python3.7/dist-packages/keras/engine/training.py\u001b[0m in \u001b[0;36mevaluate\u001b[0;34m(self, x, y, batch_size, verbose, sample_weight, steps, callbacks, max_queue_size, workers, use_multiprocessing, return_dict, **kwargs)\u001b[0m\n\u001b[1;32m   1506\u001b[0m               \u001b[0mcallbacks\u001b[0m\u001b[0;34m.\u001b[0m\u001b[0mon_test_batch_end\u001b[0m\u001b[0;34m(\u001b[0m\u001b[0mend_step\u001b[0m\u001b[0;34m,\u001b[0m \u001b[0mlogs\u001b[0m\u001b[0;34m)\u001b[0m\u001b[0;34m\u001b[0m\u001b[0;34m\u001b[0m\u001b[0m\n\u001b[1;32m   1507\u001b[0m       \u001b[0mlogs\u001b[0m \u001b[0;34m=\u001b[0m \u001b[0mtf_utils\u001b[0m\u001b[0;34m.\u001b[0m\u001b[0msync_to_numpy_or_python_type\u001b[0m\u001b[0;34m(\u001b[0m\u001b[0mlogs\u001b[0m\u001b[0;34m)\u001b[0m\u001b[0;34m\u001b[0m\u001b[0;34m\u001b[0m\u001b[0m\n\u001b[0;32m-> 1508\u001b[0;31m       \u001b[0mcallbacks\u001b[0m\u001b[0;34m.\u001b[0m\u001b[0mon_test_end\u001b[0m\u001b[0;34m(\u001b[0m\u001b[0mlogs\u001b[0m\u001b[0;34m=\u001b[0m\u001b[0mlogs\u001b[0m\u001b[0;34m)\u001b[0m\u001b[0;34m\u001b[0m\u001b[0;34m\u001b[0m\u001b[0m\n\u001b[0m\u001b[1;32m   1509\u001b[0m \u001b[0;34m\u001b[0m\u001b[0m\n\u001b[1;32m   1510\u001b[0m       \u001b[0;32mif\u001b[0m \u001b[0mreturn_dict\u001b[0m\u001b[0;34m:\u001b[0m\u001b[0;34m\u001b[0m\u001b[0;34m\u001b[0m\u001b[0m\n",
            "\u001b[0;32m/usr/local/lib/python3.7/dist-packages/keras/callbacks.py\u001b[0m in \u001b[0;36mon_test_end\u001b[0;34m(self, logs)\u001b[0m\n\u001b[1;32m    521\u001b[0m     \u001b[0mlogs\u001b[0m \u001b[0;34m=\u001b[0m \u001b[0mself\u001b[0m\u001b[0;34m.\u001b[0m\u001b[0m_process_logs\u001b[0m\u001b[0;34m(\u001b[0m\u001b[0mlogs\u001b[0m\u001b[0;34m)\u001b[0m\u001b[0;34m\u001b[0m\u001b[0;34m\u001b[0m\u001b[0m\n\u001b[1;32m    522\u001b[0m     \u001b[0;32mfor\u001b[0m \u001b[0mcallback\u001b[0m \u001b[0;32min\u001b[0m \u001b[0mself\u001b[0m\u001b[0;34m.\u001b[0m\u001b[0mcallbacks\u001b[0m\u001b[0;34m:\u001b[0m\u001b[0;34m\u001b[0m\u001b[0;34m\u001b[0m\u001b[0m\n\u001b[0;32m--> 523\u001b[0;31m       \u001b[0mcallback\u001b[0m\u001b[0;34m.\u001b[0m\u001b[0mon_test_end\u001b[0m\u001b[0;34m(\u001b[0m\u001b[0mlogs\u001b[0m\u001b[0;34m)\u001b[0m\u001b[0;34m\u001b[0m\u001b[0;34m\u001b[0m\u001b[0m\n\u001b[0m\u001b[1;32m    524\u001b[0m \u001b[0;34m\u001b[0m\u001b[0m\n\u001b[1;32m    525\u001b[0m   \u001b[0;32mdef\u001b[0m \u001b[0mon_predict_begin\u001b[0m\u001b[0;34m(\u001b[0m\u001b[0mself\u001b[0m\u001b[0;34m,\u001b[0m \u001b[0mlogs\u001b[0m\u001b[0;34m=\u001b[0m\u001b[0;32mNone\u001b[0m\u001b[0;34m)\u001b[0m\u001b[0;34m:\u001b[0m\u001b[0;34m\u001b[0m\u001b[0;34m\u001b[0m\u001b[0m\n",
            "\u001b[0;32m<ipython-input-138-7e1db66a4fa6>\u001b[0m in \u001b[0;36mon_test_end\u001b[0;34m(self, logs)\u001b[0m\n\u001b[1;32m     30\u001b[0m         \u001b[0;32mfor\u001b[0m \u001b[0mi\u001b[0m \u001b[0;32min\u001b[0m \u001b[0mrange\u001b[0m\u001b[0;34m(\u001b[0m\u001b[0;36m8\u001b[0m\u001b[0;34m)\u001b[0m\u001b[0;34m:\u001b[0m\u001b[0;34m\u001b[0m\u001b[0;34m\u001b[0m\u001b[0m\n\u001b[1;32m     31\u001b[0m           \u001b[0mdict_\u001b[0m\u001b[0;34m[\u001b[0m\u001b[0mi\u001b[0m\u001b[0;34m]\u001b[0m \u001b[0;34m=\u001b[0m \u001b[0;34m{\u001b[0m \u001b[0;34m\"err\"\u001b[0m\u001b[0;34m:\u001b[0m \u001b[0;34m\"%.2f\"\u001b[0m \u001b[0;34m%\u001b[0m \u001b[0merrors_loss\u001b[0m\u001b[0;34m[\u001b[0m\u001b[0mi\u001b[0m\u001b[0;34m]\u001b[0m\u001b[0;34m[\u001b[0m\u001b[0;34m\"err\"\u001b[0m\u001b[0;34m]\u001b[0m\u001b[0;34m,\u001b[0m \u001b[0;34m\"num\"\u001b[0m\u001b[0;34m:\u001b[0m \u001b[0;34m\"%d\"\u001b[0m \u001b[0;34m%\u001b[0m \u001b[0merrors_loss\u001b[0m\u001b[0;34m[\u001b[0m\u001b[0mi\u001b[0m\u001b[0;34m]\u001b[0m\u001b[0;34m[\u001b[0m\u001b[0;34m\"num\"\u001b[0m\u001b[0;34m]\u001b[0m\u001b[0;34m,\u001b[0m \u001b[0;34m\"mae\"\u001b[0m\u001b[0;34m:\u001b[0m \u001b[0;34m\"%.2f\"\u001b[0m \u001b[0;34m%\u001b[0m \u001b[0merrors_loss\u001b[0m\u001b[0;34m[\u001b[0m\u001b[0mi\u001b[0m\u001b[0;34m]\u001b[0m\u001b[0;34m[\u001b[0m\u001b[0;34m\"mae\"\u001b[0m\u001b[0;34m]\u001b[0m\u001b[0;34m,\u001b[0m \u001b[0;34m}\u001b[0m\u001b[0;34m\u001b[0m\u001b[0;34m\u001b[0m\u001b[0m\n\u001b[0;32m---> 32\u001b[0;31m         \u001b[0mmlflow\u001b[0m\u001b[0;34m.\u001b[0m\u001b[0mlog_dict\u001b[0m\u001b[0;34m(\u001b[0m\u001b[0;34m\"per_class_errors_valid_%d\"\u001b[0m \u001b[0;34m%\u001b[0m \u001b[0;34m(\u001b[0m \u001b[0mself\u001b[0m\u001b[0;34m.\u001b[0m\u001b[0mep_\u001b[0m\u001b[0;34m,\u001b[0m\u001b[0;34m)\u001b[0m \u001b[0;34m,\u001b[0m\u001b[0mdict_\u001b[0m\u001b[0;34m)\u001b[0m\u001b[0;34m\u001b[0m\u001b[0;34m\u001b[0m\u001b[0m\n\u001b[0m\u001b[1;32m     33\u001b[0m \u001b[0;34m\u001b[0m\u001b[0m\n\u001b[1;32m     34\u001b[0m \u001b[0;34m\u001b[0m\u001b[0m\n",
            "\u001b[0;32m/usr/local/lib/python3.7/dist-packages/mlflow/tracking/fluent.py\u001b[0m in \u001b[0;36mlog_dict\u001b[0;34m(dictionary, artifact_file)\u001b[0m\n\u001b[1;32m    643\u001b[0m     \"\"\"\n\u001b[1;32m    644\u001b[0m     \u001b[0mrun_id\u001b[0m \u001b[0;34m=\u001b[0m \u001b[0m_get_or_start_run\u001b[0m\u001b[0;34m(\u001b[0m\u001b[0;34m)\u001b[0m\u001b[0;34m.\u001b[0m\u001b[0minfo\u001b[0m\u001b[0;34m.\u001b[0m\u001b[0mrun_id\u001b[0m\u001b[0;34m\u001b[0m\u001b[0;34m\u001b[0m\u001b[0m\n\u001b[0;32m--> 645\u001b[0;31m     \u001b[0mMlflowClient\u001b[0m\u001b[0;34m(\u001b[0m\u001b[0;34m)\u001b[0m\u001b[0;34m.\u001b[0m\u001b[0mlog_dict\u001b[0m\u001b[0;34m(\u001b[0m\u001b[0mrun_id\u001b[0m\u001b[0;34m,\u001b[0m \u001b[0mdictionary\u001b[0m\u001b[0;34m,\u001b[0m \u001b[0martifact_file\u001b[0m\u001b[0;34m)\u001b[0m\u001b[0;34m\u001b[0m\u001b[0;34m\u001b[0m\u001b[0m\n\u001b[0m\u001b[1;32m    646\u001b[0m \u001b[0;34m\u001b[0m\u001b[0m\n\u001b[1;32m    647\u001b[0m \u001b[0;34m\u001b[0m\u001b[0m\n",
            "\u001b[0;32m/usr/local/lib/python3.7/dist-packages/mlflow/tracking/client.py\u001b[0m in \u001b[0;36mlog_dict\u001b[0;34m(self, run_id, dictionary, artifact_file)\u001b[0m\n\u001b[1;32m   1060\u001b[0m             \u001b[0mmlflow\u001b[0m\u001b[0;34m.\u001b[0m\u001b[0mlog_dict\u001b[0m\u001b[0;34m(\u001b[0m\u001b[0mrun_id\u001b[0m\u001b[0;34m,\u001b[0m \u001b[0mdictionary\u001b[0m\u001b[0;34m,\u001b[0m \u001b[0;34m\"data.txt\"\u001b[0m\u001b[0;34m)\u001b[0m\u001b[0;34m\u001b[0m\u001b[0;34m\u001b[0m\u001b[0m\n\u001b[1;32m   1061\u001b[0m         \"\"\"\n\u001b[0;32m-> 1062\u001b[0;31m         \u001b[0mextension\u001b[0m \u001b[0;34m=\u001b[0m \u001b[0mos\u001b[0m\u001b[0;34m.\u001b[0m\u001b[0mpath\u001b[0m\u001b[0;34m.\u001b[0m\u001b[0msplitext\u001b[0m\u001b[0;34m(\u001b[0m\u001b[0martifact_file\u001b[0m\u001b[0;34m)\u001b[0m\u001b[0;34m[\u001b[0m\u001b[0;36m1\u001b[0m\u001b[0;34m]\u001b[0m\u001b[0;34m\u001b[0m\u001b[0;34m\u001b[0m\u001b[0m\n\u001b[0m\u001b[1;32m   1063\u001b[0m \u001b[0;34m\u001b[0m\u001b[0m\n\u001b[1;32m   1064\u001b[0m         \u001b[0;32mwith\u001b[0m \u001b[0mself\u001b[0m\u001b[0;34m.\u001b[0m\u001b[0m_log_artifact_helper\u001b[0m\u001b[0;34m(\u001b[0m\u001b[0mrun_id\u001b[0m\u001b[0;34m,\u001b[0m \u001b[0martifact_file\u001b[0m\u001b[0;34m)\u001b[0m \u001b[0;32mas\u001b[0m \u001b[0mtmp_path\u001b[0m\u001b[0;34m:\u001b[0m\u001b[0;34m\u001b[0m\u001b[0;34m\u001b[0m\u001b[0m\n",
            "\u001b[0;32m/usr/lib/python3.7/posixpath.py\u001b[0m in \u001b[0;36msplitext\u001b[0;34m(p)\u001b[0m\n\u001b[1;32m    120\u001b[0m \u001b[0;34m\u001b[0m\u001b[0m\n\u001b[1;32m    121\u001b[0m \u001b[0;32mdef\u001b[0m \u001b[0msplitext\u001b[0m\u001b[0;34m(\u001b[0m\u001b[0mp\u001b[0m\u001b[0;34m)\u001b[0m\u001b[0;34m:\u001b[0m\u001b[0;34m\u001b[0m\u001b[0;34m\u001b[0m\u001b[0m\n\u001b[0;32m--> 122\u001b[0;31m     \u001b[0mp\u001b[0m \u001b[0;34m=\u001b[0m \u001b[0mos\u001b[0m\u001b[0;34m.\u001b[0m\u001b[0mfspath\u001b[0m\u001b[0;34m(\u001b[0m\u001b[0mp\u001b[0m\u001b[0;34m)\u001b[0m\u001b[0;34m\u001b[0m\u001b[0;34m\u001b[0m\u001b[0m\n\u001b[0m\u001b[1;32m    123\u001b[0m     \u001b[0;32mif\u001b[0m \u001b[0misinstance\u001b[0m\u001b[0;34m(\u001b[0m\u001b[0mp\u001b[0m\u001b[0;34m,\u001b[0m \u001b[0mbytes\u001b[0m\u001b[0;34m)\u001b[0m\u001b[0;34m:\u001b[0m\u001b[0;34m\u001b[0m\u001b[0;34m\u001b[0m\u001b[0m\n\u001b[1;32m    124\u001b[0m         \u001b[0msep\u001b[0m \u001b[0;34m=\u001b[0m \u001b[0;34mb'/'\u001b[0m\u001b[0;34m\u001b[0m\u001b[0;34m\u001b[0m\u001b[0m\n",
            "\u001b[0;31mTypeError\u001b[0m: expected str, bytes or os.PathLike object, not dict"
          ]
        }
      ]
    }
  ]
}